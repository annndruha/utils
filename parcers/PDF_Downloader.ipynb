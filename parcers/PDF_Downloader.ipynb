{
 "cells": [
  {
   "cell_type": "code",
   "execution_count": 1,
   "id": "6389c2fc",
   "metadata": {},
   "outputs": [],
   "source": [
    "import requests\n",
    "import urllib\n",
    "from urllib.parse import unquote\n",
    "from bs4 import BeautifulSoup\n",
    "headers = {'User-Agent': 'Mozilla/5.0 (Macintosh; Intel Mac OS X 10_11_5) AppleWebKit/537.36 (KHTML, like Gecko) Chrome/50.0.2661.102 Safari/537.36'}"
   ]
  },
  {
   "cell_type": "code",
   "execution_count": 2,
   "id": "88effe2e",
   "metadata": {},
   "outputs": [
    {
     "name": "stdout",
     "output_type": "stream",
     "text": [
      "Response: 200\n"
     ]
    }
   ],
   "source": [
    "r = requests.get('https://siriusuniversity.ru/about/svedeniya-ob-obrazovatelnoi-organizatsii/obrazovanie', headers=headers)\n",
    "print(f\"Response:\", r.status_code)\n",
    "soup = BeautifulSoup(r.text)"
   ]
  },
  {
   "cell_type": "code",
   "execution_count": 3,
   "id": "2ae0574c",
   "metadata": {
    "scrolled": false
   },
   "outputs": [],
   "source": [
    "pdfs = []\n",
    "for a in soup.find_all('a', href=True):\n",
    "    if a['href'].endswith(\".pdf\"):\n",
    "        pdfs.append(a['href'])"
   ]
  },
  {
   "cell_type": "code",
   "execution_count": 4,
   "id": "f3892652",
   "metadata": {},
   "outputs": [],
   "source": [
    "urls = zip([\"https://siriusuniversity.ru\"]*len(pdfs), pdfs)"
   ]
  },
  {
   "cell_type": "code",
   "execution_count": 11,
   "id": "2dab38e0",
   "metadata": {},
   "outputs": [],
   "source": [
    "domain = \"https://siriusuniversity.ru\"\n",
    "for link in pdfs:\n",
    "    try:\n",
    "        response = requests.get(domain+link)\n",
    "        url = unquote(domain+link)\n",
    "        filename = url.split('/')[-1]\n",
    "        with open('pdfs/' + filename, 'wb') as f:\n",
    "            f.write(response.content)\n",
    "\n",
    "    except:\n",
    "        pass"
   ]
  }
 ],
 "metadata": {
  "kernelspec": {
   "display_name": "Python 3 (ipykernel)",
   "language": "python",
   "name": "python3"
  },
  "language_info": {
   "codemirror_mode": {
    "name": "ipython",
    "version": 3
   },
   "file_extension": ".py",
   "mimetype": "text/x-python",
   "name": "python",
   "nbconvert_exporter": "python",
   "pygments_lexer": "ipython3",
   "version": "3.10.6"
  }
 },
 "nbformat": 4,
 "nbformat_minor": 5
}
