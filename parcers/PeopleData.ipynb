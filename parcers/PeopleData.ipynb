{
 "cells": [
  {
   "cell_type": "markdown",
   "id": "e41d35e9",
   "metadata": {},
   "source": [
    "## Утечка сберспасибо"
   ]
  },
  {
   "cell_type": "code",
   "execution_count": null,
   "id": "25b23b86",
   "metadata": {},
   "outputs": [],
   "source": [
    "from glob import glob\n",
    "import pandas as pd\n",
    "from tqdm import tqdm\n",
    "import linecache"
   ]
  },
  {
   "cell_type": "code",
   "execution_count": null,
   "id": "a8ce14e1",
   "metadata": {},
   "outputs": [],
   "source": [
    "path = 'sberspasibo/users.txt'"
   ]
  },
  {
   "cell_type": "code",
   "execution_count": null,
   "id": "43639845",
   "metadata": {},
   "outputs": [],
   "source": [
    "columns = list(pd.read_csv(path, sep='\\t', nrows=0, low_memory=False))"
   ]
  },
  {
   "cell_type": "code",
   "execution_count": null,
   "id": "323c3da3",
   "metadata": {},
   "outputs": [],
   "source": [
    "phone_number = input()"
   ]
  },
  {
   "cell_type": "code",
   "execution_count": null,
   "id": "5686e302",
   "metadata": {},
   "outputs": [],
   "source": [
    "for i in range(48):\n",
    "    print(f'Loading {i}')\n",
    "    df = pd.read_csv(path, sep='\\t', nrows=10**6, skiprows=i*10**6, low_memory=False, names=columns)\n",
    "    print(f'Searching {i}')\n",
    "    df_search = df[df[\"phone\"] == phone_number]\n",
    "    if len(df_search) != 0:\n",
    "        break\n",
    "df_search"
   ]
  },
  {
   "cell_type": "code",
   "execution_count": null,
   "id": "669b16a3",
   "metadata": {},
   "outputs": [],
   "source": [
    "for name, value in zip(columns, df_search.to_numpy()[0]):\n",
    "    print(name, ' '* (40 - len(name)), value)"
   ]
  },
  {
   "cell_type": "code",
   "execution_count": null,
   "id": "01fb1ac6",
   "metadata": {},
   "outputs": [],
   "source": [
    "for name, value in zip(columns, df_search.to_numpy()[0]):\n",
    "    print(name, ' '* (40 - len(name)), value)"
   ]
  },
  {
   "cell_type": "code",
   "execution_count": null,
   "id": "27863f61",
   "metadata": {},
   "outputs": [],
   "source": [
    "for name, value in zip(columns, df_search.to_numpy()[0]):\n",
    "    print(name, ' '* (40 - len(name)), value)"
   ]
  },
  {
   "cell_type": "markdown",
   "id": "80703bdd",
   "metadata": {},
   "source": [
    "## Утечка Яндекс еды"
   ]
  },
  {
   "cell_type": "code",
   "execution_count": null,
   "id": "93ee6f76",
   "metadata": {},
   "outputs": [],
   "source": [
    "files = glob('data/*')\n",
    "data = pd.concat((pd.read_csv(path) for path in tqdm(files)), ignore_index=True)"
   ]
  },
  {
   "cell_type": "code",
   "execution_count": null,
   "id": "a264fe54",
   "metadata": {},
   "outputs": [],
   "source": [
    "data.head()"
   ]
  },
  {
   "cell_type": "code",
   "execution_count": null,
   "id": "8d3cb70b",
   "metadata": {},
   "outputs": [],
   "source": [
    "phone_number = input()\n",
    "df_search = data[data[\"phone_number\"] == phone_number]\n",
    "df_search"
   ]
  },
  {
   "cell_type": "code",
   "execution_count": null,
   "id": "f5e3440c",
   "metadata": {},
   "outputs": [],
   "source": [
    "full_name = input()\n",
    "df_search = data[data[\"full_name\"].str.contains(full_name, na=False)]\n",
    "df_search"
   ]
  }
 ],
 "metadata": {
  "kernelspec": {
   "display_name": "Python 3 (ipykernel)",
   "language": "python",
   "name": "python3"
  },
  "language_info": {
   "codemirror_mode": {
    "name": "ipython",
    "version": 3
   },
   "file_extension": ".py",
   "mimetype": "text/x-python",
   "name": "python",
   "nbconvert_exporter": "python",
   "pygments_lexer": "ipython3",
   "version": "3.11.0"
  }
 },
 "nbformat": 4,
 "nbformat_minor": 5
}
